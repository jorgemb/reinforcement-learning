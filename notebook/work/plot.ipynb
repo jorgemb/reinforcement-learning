{
 "cells": [
  {
   "cell_type": "code",
   "execution_count": 2,
   "id": "8b0ec891",
   "metadata": {},
   "outputs": [
    {
     "name": "stderr",
     "output_type": "stream",
     "text": [
      "input_line_8:1:10: fatal error: 'xplot/xfigure.hpp' file not found\n",
      "#include <xplot/xfigure.hpp>\n",
      "         ^~~~~~~~~~~~~~~~~~~\n"
     ]
    },
    {
     "ename": "Interpreter Error",
     "evalue": "",
     "output_type": "error",
     "traceback": [
      "Interpreter Error: "
     ]
    }
   ],
   "source": [
    "#include <xplot/xfigure.hpp>\n",
    "#include <xplot/xmarks.hpp>\n",
    "#include <xplot/xaxes.hpp>"
   ]
  },
  {
   "cell_type": "code",
   "execution_count": null,
   "id": "25ef2e4a",
   "metadata": {},
   "outputs": [],
   "source": [
    "xpl::figure fig;\n",
    "fig"
   ]
  },
  {
   "cell_type": "code",
   "execution_count": null,
   "id": "9f5f9e8a",
   "metadata": {},
   "outputs": [],
   "source": [
    "xpl::linear_scale sx, sy;"
   ]
  },
  {
   "cell_type": "code",
   "execution_count": null,
   "id": "ec7ac2e0",
   "metadata": {},
   "outputs": [],
   "source": [
    "xpl::lines line(sx, sy);\n",
    "line.x = std::vector<double>({0.0, 0.5, 1.0, 1.1, 1.2, 1.3});\n",
    "line.y = std::vector<double>({0.0, 0.7, 0.5, 1.1, 1.2, 1.2});\n",
    "fig.add_mark(line)"
   ]
  },
  {
   "cell_type": "code",
   "execution_count": null,
   "id": "4335ce46",
   "metadata": {},
   "outputs": [],
   "source": [
    "line.colors = std::vector<std::string>({\"red\"});"
   ]
  },
  {
   "cell_type": "code",
   "execution_count": null,
   "id": "aa18fd89",
   "metadata": {},
   "outputs": [],
   "source": [
    "xpl::axis hx(sx), hy(sy);\n",
    "hy.orientation = \"vertical\";\n",
    "fig.add_axis(hx);\n",
    "fig.add_axis(hy);"
   ]
  },
  {
   "cell_type": "code",
   "execution_count": 1,
   "id": "7ae077b7",
   "metadata": {},
   "outputs": [
    {
     "name": "stderr",
     "output_type": "stream",
     "text": [
      "input_line_7:1:10: fatal error: 'xplot/xfigure.hpp' file not found\n",
      "#include \"xplot/xfigure.hpp\"\n",
      "         ^~~~~~~~~~~~~~~~~~~\n"
     ]
    },
    {
     "ename": "Interpreter Error",
     "evalue": "",
     "output_type": "error",
     "traceback": [
      "Interpreter Error: "
     ]
    }
   ],
   "source": [
    "fig.remove_mark(line)"
   ]
  },
  {
   "cell_type": "code",
   "execution_count": null,
   "id": "b0896452",
   "metadata": {},
   "outputs": [],
   "source": []
  }
 ],
 "metadata": {
  "kernelspec": {
   "display_name": "C++17",
   "language": "C++17",
   "name": "xcpp17"
  },
  "language_info": {
   "codemirror_mode": "text/x-c++src",
   "file_extension": ".cpp",
   "mimetype": "text/x-c++src",
   "name": "c++",
   "version": "17"
  }
 },
 "nbformat": 4,
 "nbformat_minor": 5
}
