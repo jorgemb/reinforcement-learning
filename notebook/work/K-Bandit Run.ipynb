{
 "cells": [
  {
   "cell_type": "code",
   "execution_count": 1,
   "id": "d1c447c3-fc28-425a-8020-753aad1fedd9",
   "metadata": {},
   "outputs": [],
   "source": [
    "#pragma cling add_include_path(\"/rl/include/\")\n",
    "#pragma cling add_library_path(\"/rl/lib/\")\n",
    "#pragma cling load(\"libkbandit.so\")"
   ]
  },
  {
   "cell_type": "code",
   "execution_count": 2,
   "id": "e358e39f",
   "metadata": {},
   "outputs": [],
   "source": [
    "#include <kbandit/k-bandit.h>\n",
    "#include <iostream>\n",
    "#include <string>\n",
    "#include <numeric>\n",
    "#include <algorithm>"
   ]
  },
  {
   "cell_type": "code",
   "execution_count": 3,
   "id": "0c78e6d1",
   "metadata": {},
   "outputs": [],
   "source": [
    "void do_test(const std::string& agent_name, KBanditsAgent* agent, unsigned int tests, KBandits& bandits) {\n",
    "    std::cout << agent_name << \" agent\\n\";\n",
    "\n",
    "    std::vector<double> results(tests, 0.0);\n",
    "    std::transform(results.begin(), results.end(), results.begin(), \n",
    "        [agent, &bandits](auto val) {\n",
    "            std::size_t selection = agent->get_selection();\n",
    "            double reward = bandits.get_reward(selection);\n",
    "            agent->add_reward(selection, reward);\n",
    "\n",
    "            return reward;\n",
    "        });\n",
    "\n",
    "    double total_reward = std::reduce(results.begin(), results.end(), 0.0);\n",
    "    std::cout << \"\\tTotal reward: \" << total_reward << '\\n';\n",
    "    std::cout << \"\\tAverage reward: \" << total_reward / tests << '\\n';\n",
    "    std::cout << \"\\tBest bandit to agent: \" << agent->get_best_bandit() << '\\n';\n",
    "}"
   ]
  },
  {
   "cell_type": "code",
   "execution_count": 4,
   "id": "54a799a4",
   "metadata": {},
   "outputs": [
    {
     "name": "stderr",
     "output_type": "stream",
     "text": [
      "\u001b[1minput_line_10:8:1: \u001b[0m\u001b[0;1;31merror: \u001b[0m\u001b[1muse of undeclared identifier 'fmt'\u001b[0m\n",
      "fmt::print(\"Best bandit: {}\\n\", bandits.best_bandit());\n",
      "\u001b[0;1;32m^\n",
      "\u001b[0m"
     ]
    },
    {
     "ename": "Interpreter Error",
     "evalue": "",
     "output_type": "error",
     "traceback": [
      "Interpreter Error: "
     ]
    }
   ],
   "source": [
    "std::cout << \"Running K-Bandits tests\" << std::endl;\n",
    "\n",
    "// Initialize\n",
    "const unsigned int tests = 1000;\n",
    "const unsigned int n_bandits = 10;\n",
    "const double initial_agent_estimate = 0.0;\n",
    "\n",
    "auto bandits = KBandits(0.0, 1.0, 1.0, n_bandits, 42);\n",
    "std::cout <<  \"Best bandit: \" << bandits.best_bandit() << std::endl;\n",
    "for (size_t i = 0; i != n_bandits; i++) {\n",
    "    Bandit& b = bandits.get_bandit(i);\n",
    "    std::cout << \"\\t\" << i << \" :: \" << b.mean_reward() << \" \" << b.variance();\n",
    "}"
   ]
  },
  {
   "cell_type": "code",
   "execution_count": null,
   "id": "7f7f4595",
   "metadata": {},
   "outputs": [],
   "source": [
    "// Greedy\n",
    "BasicGreedyAgent greedy_agent(n_bandits, 0.0, initial_agent_estimate);\n",
    "do_test(\"Greedy\", &greedy_agent, tests, bandits);"
   ]
  },
  {
   "cell_type": "code",
   "execution_count": null,
   "id": "eb5815ed",
   "metadata": {},
   "outputs": [],
   "source": [
    "// e-0.1\n",
    "BasicGreedyAgent e01_agent(n_bandits, 0.1, initial_agent_estimate);\n",
    "do_test(\"e-0.1\", &e01_agent, tests, bandits);"
   ]
  },
  {
   "cell_type": "code",
   "execution_count": null,
   "id": "3faed717",
   "metadata": {},
   "outputs": [],
   "source": [
    "// e-0.01\n",
    "BasicGreedyAgent e001_agent(n_bandits, 0.01, initial_agent_estimate);\n",
    "do_test(\"e-0.01\", &e001_agent, tests, bandits);"
   ]
  }
 ],
 "metadata": {
  "kernelspec": {
   "display_name": "C++17",
   "language": "C++17",
   "name": "xcpp17"
  },
  "language_info": {
   "codemirror_mode": "text/x-c++src",
   "file_extension": ".cpp",
   "mimetype": "text/x-c++src",
   "name": "c++",
   "version": "17"
  }
 },
 "nbformat": 4,
 "nbformat_minor": 5
}
