{
 "cells": [
  {
   "cell_type": "code",
   "execution_count": 1,
   "id": "86c2b8b7",
   "metadata": {},
   "outputs": [],
   "source": [
    "#pragma cling add_include_path(\"/rl/include/\")\n",
    "#pragma cling add_library_path(\"/rl/lib/\")\n",
    "#pragma cling load(\"libkbandit.so\")"
   ]
  },
  {
   "cell_type": "code",
   "execution_count": 6,
   "id": "defe6de4",
   "metadata": {},
   "outputs": [],
   "source": [
    "#include <kbandit/k-bandit.h>\n",
    "#include <iostream>\n",
    "#include <string>\n",
    "#include <numeric>\n",
    "#include <algorithm>"
   ]
  },
  {
   "cell_type": "code",
   "execution_count": 3,
   "id": "8a6abf61",
   "metadata": {},
   "outputs": [],
   "source": [
    "void do_test(const std::string& agent_name, KBanditsAgent* agent, unsigned int tests, KBandits& bandits) {\n",
    "\tstd::cout << agent_name << \" agent\\n\";\n",
    "\n",
    "\tstd::vector<double> results(tests, 0.0);\n",
    "\tstd::transform(results.begin(), results.end(), results.begin(), \n",
    "\t\t[agent, &bandits](auto val) {\n",
    "\t\t\tauto selection = agent->get_selection();\n",
    "\t\t\tauto reward = bandits.get_reward(selection);\n",
    "\t\t\tagent->add_reward(selection, reward);\n",
    "\t\t\t\n",
    "\t\t\treturn reward;\n",
    "\t\t});\n",
    "\n",
    "\tdouble total_reward = std::reduce(results.begin(), results.end(), 0.0);\n",
    "\tstd::cout << \"\\tTotal reward: \" << total_reward << \"\\n\";\n",
    "\tstd::cout << \"\\tAverage reward: \" << total_reward / tests << \"\\n\";\n",
    "\tstd::cout << \"\\tBest bandit to agent: \" << agent->get_best_bandit() << std::endl;\n",
    "}"
   ]
  },
  {
   "cell_type": "code",
   "execution_count": 4,
   "id": "c74f17bb",
   "metadata": {},
   "outputs": [
    {
     "name": "stdout",
     "output_type": "stream",
     "text": [
      "Running K-Bandits tests \n",
      "Best bandit: 5\n",
      "Greedy agent\n",
      "\tTotal reward: 23286.7\n",
      "\tAverage reward: 2.32867\n",
      "\tBest bandit to agent: 5\n",
      "e-0.1 agent\n",
      "\tTotal reward: 20933.2\n",
      "\tAverage reward: 2.09332\n",
      "\tBest bandit to agent: 5\n",
      "e-0.01 agent\n",
      "\tTotal reward: 21109.7\n",
      "\tAverage reward: 2.11097\n",
      "\tBest bandit to agent: 2\n"
     ]
    }
   ],
   "source": [
    "std::cout << \"Running K-Bandits tests \\n\";\n",
    "\n",
    "// Initialize\n",
    "const unsigned int tests = 10000;\n",
    "const unsigned int n_bandits = 10;\n",
    "\n",
    "auto bandits = KBandits(0.0, 10.0, 1.0, n_bandits);\n",
    "std::cout << \"Best bandit: \" << bandits.best_bandit() << std::endl;\n",
    "\n",
    "// Greedy\n",
    "BasicGreedyAgent greedy_agent(n_bandits, 0.0);\n",
    "do_test(\"Greedy\", &greedy_agent, tests, bandits);\n",
    "\n",
    "// e-0.1\n",
    "BasicGreedyAgent e01_agent(n_bandits, 0.1);\n",
    "do_test(\"e-0.1\", &e01_agent, tests, bandits);\n",
    "\n",
    "// e-0.01\n",
    "BasicGreedyAgent e001_agent(n_bandits, 0.01);\n",
    "do_test(\"e-0.01\", &e001_agent, tests, bandits);"
   ]
  },
  {
   "cell_type": "code",
   "execution_count": null,
   "id": "412c6327",
   "metadata": {},
   "outputs": [],
   "source": []
  }
 ],
 "metadata": {
  "kernelspec": {
   "display_name": "C++17",
   "language": "C++17",
   "name": "xcpp17"
  },
  "language_info": {
   "codemirror_mode": "text/x-c++src",
   "file_extension": ".cpp",
   "mimetype": "text/x-c++src",
   "name": "c++",
   "version": "17"
  }
 },
 "nbformat": 4,
 "nbformat_minor": 5
}
