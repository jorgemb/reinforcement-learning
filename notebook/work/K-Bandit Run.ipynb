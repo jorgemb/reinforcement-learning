{
 "cells": [
  {
   "cell_type": "code",
   "execution_count": 1,
   "id": "86c2b8b7",
   "metadata": {},
   "outputs": [
    {
     "name": "stderr",
     "output_type": "stream",
     "text": [
      "input_line_42:3:35: fatal error: 'libkbandit.so' file not found\n",
      "#pragma cling load(\"libkbandit.so\")\n",
      "                                  ^\n"
     ]
    }
   ],
   "source": [
    "#pragma cling add_include_path(\"/rl/include/\")\n",
    "#pragma cling add_library_path(\"/rl/lib/\")\n",
    "#pragma cling load(\"libkbandit.so\")"
   ]
  },
  {
   "cell_type": "code",
   "execution_count": 2,
   "id": "defe6de4",
   "metadata": {},
   "outputs": [
    {
     "name": "stderr",
     "output_type": "stream",
     "text": [
      "input_line_52:1:10: fatal error: 'kbandit/k-bandit.h' file not found\n",
      "#include <kbandit/k-bandit.h>\n",
      "         ^~~~~~~~~~~~~~~~~~~~\n"
     ]
    }
   ],
   "source": [
    "#include <kbandit/k-bandit.h>\n",
    "#include <iostream>\n",
    "#include <string>\n",
    "#include <numeric>\n",
    "#include <algorithm>"
   ]
  },
  {
   "cell_type": "code",
   "execution_count": 3,
   "id": "8a6abf61",
   "metadata": {},
   "outputs": [
    {
     "name": "stderr",
     "output_type": "stream",
     "text": [
      "input_line_53:1:45: error: unknown type name 'KBanditsAgent'\n",
      "void do_test(const std::string& agent_name, KBanditsAgent* agent, unsigned int tests, KBandits& bandits) {\n",
      "                                            ^\n",
      "input_line_53:1:87: error: unknown type name 'KBandits'\n",
      "void do_test(const std::string& agent_name, KBanditsAgent* agent, unsigned int tests, KBandits& bandits) {\n",
      "                                                                                      ^\n"
     ]
    }
   ],
   "source": [
    "void do_test(const std::string& agent_name, KBanditsAgent* agent, unsigned int tests, KBandits& bandits) {\n",
    "\tstd::cout << agent_name << \" agent\\n\";\n",
    "\n",
    "\tstd::vector<double> results(tests, 0.0);\n",
    "\tstd::transform(results.begin(), results.end(), results.begin(), \n",
    "\t\t[agent, &bandits](auto val) {\n",
    "\t\t\tauto selection = agent->get_selection();\n",
    "\t\t\tauto reward = bandits.get_reward(selection);\n",
    "\t\t\tagent->add_reward(selection, reward);\n",
    "\t\t\t\n",
    "\t\t\treturn reward;\n",
    "\t\t});\n",
    "\n",
    "\tdouble total_reward = std::reduce(results.begin(), results.end(), 0.0);\n",
    "\tstd::cout << \"\\tTotal reward: \" << total_reward << \"\\n\";\n",
    "\tstd::cout << \"\\tAverage reward: \" << total_reward / tests << \"\\n\";\n",
    "\tstd::cout << \"\\tBest bandit to agent: \" << agent->get_best_bandit() << std::endl;\n",
    "}"
   ]
  },
  {
   "cell_type": "code",
   "execution_count": 4,
   "id": "c74f17bb",
   "metadata": {},
   "outputs": [
    {
     "name": "stderr",
     "output_type": "stream",
     "text": [
      "input_line_54:12:1: error: unknown type name 'BasicGreedyAgent'\n",
      "BasicGreedyAgent greedy_agent(n_bandits, 0.0);\n",
      "^\n",
      "input_line_54:16:1: error: unknown type name 'BasicGreedyAgent'\n",
      "BasicGreedyAgent e01_agent(n_bandits, 0.1);\n",
      "^\n",
      "input_line_54:20:1: error: unknown type name 'BasicGreedyAgent'\n",
      "BasicGreedyAgent e001_agent(n_bandits, 0.01);\n",
      "^\n",
      "input_line_54:8:1: error: Syntax error\n",
      "auto bandits = KBandits(0.0, 10.0, 1.0, n_bandits);\n",
      "^\n",
      "FunctionDecl 0x7fac657c5528 <input_line_54:1:1, line:23:1> line:1:6 __cling_Un1Qu320 'void (void *)'\n",
      "|-ParmVarDecl 0x7fac657c5470 <col:23, col:29> col:29 vpClingValue 'void *'\n",
      "|-CompoundStmt 0x7fac657cb308 <col:43, line:23:1>\n",
      "| |-CXXOperatorCallExpr 0x7fac657c7ac0 <line:2:2, col:15> 'basic_ostream<char, std::char_traits<char> >':'std::basic_ostream<char>' lvalue\n",
      "| | |-ImplicitCastExpr 0x7fac657c7aa8 <col:12> 'basic_ostream<char, std::char_traits<char> > &(*)(basic_ostream<char, std::char_traits<char> > &, const char *)' <FunctionToPointerDecay>\n",
      "| | | `-DeclRefExpr 0x7fac657c7a88 <col:12> 'basic_ostream<char, std::char_traits<char> > &(basic_ostream<char, std::char_traits<char> > &, const char *)' lvalue Function 0x7fac655cdf50 'operator<<' 'basic_ostream<char, std::char_traits<char> > &(basic_ostream<char, std::char_traits<char> > &, const char *)'\n",
      "| | |-DeclRefExpr 0x7fac657c5610 <col:2, col:7> 'std::ostream':'std::basic_ostream<char>' lvalue Var 0x55ad262f69c0 'cout' 'std::ostream':'std::basic_ostream<char>'\n",
      "| | `-ImplicitCastExpr 0x7fac657c7a70 <col:15> 'const char *' <ArrayToPointerDecay>\n",
      "| |   `-StringLiteral 0x7fac657c5640 <col:15> 'const char [26]' lvalue \"Running K-Bandits tests \\n\"\n",
      "| |-DeclStmt 0x7fac657c7c30 <line:5:1, col:33>\n",
      "| | `-VarDecl 0x7fac657c7b18 <col:1, col:28> col:20 referenced tests 'const unsigned int' cinit\n",
      "| |   `-ImplicitCastExpr 0x7fac657c7ba0 <col:28> 'const unsigned int' <IntegralCast>\n",
      "| |     `-IntegerLiteral 0x7fac657c7b80 <col:28> 'int' 10000\n",
      "| |-DeclStmt 0x7fac657c7d80 <line:6:1, col:34>\n",
      "| | `-VarDecl 0x7fac657c7c68 <col:1, col:32> col:20 used n_bandits 'const unsigned int' cinit\n",
      "| |   `-ImplicitCastExpr 0x7fac657c7cf0 <col:32> 'const unsigned int' <IntegralCast>\n",
      "| |     `-IntegerLiteral 0x7fac657c7cd0 <col:32> 'int' 10\n",
      "| |-DeclStmt 0x7fac657c8088 <line:8:1, col:51>\n",
      "| | `-VarDecl 0x7fac657c7db0 <col:1, col:50> col:6 used bandits 'auto' cinit\n",
      "| |   `-CallExpr 0x7fac657c8048 <col:16, col:50> '<dependent type>'\n",
      "| |     |-DeclRefExpr 0x7fac657c7f88 <col:16> '<dependent type>' lvalue Var 0x7fac657c7ef0 'KBandits' '<dependent type>'\n",
      "| |     |-FloatingLiteral 0x7fac657c7fc8 <col:25> 'double' 0.000000e+00\n",
      "| |     |-FloatingLiteral 0x7fac657c7fe8 <col:30> 'double' 1.000000e+01\n",
      "| |     |-FloatingLiteral 0x7fac657c8008 <col:36> 'double' 1.000000e+00\n",
      "| |     `-DeclRefExpr 0x7fac657c8028 <col:41> 'const unsigned int' lvalue Var 0x7fac657c7c68 'n_bandits' 'const unsigned int'\n",
      "| |-CXXOperatorCallExpr 0x7fac657cada0 <line:9:1, col:63> '<dependent type>'\n",
      "| | |-UnresolvedLookupExpr 0x7fac657caa40 <col:55> '<overloaded function type>' lvalue (ADL) = 'operator<<' 0x55ad26cba1a0 0x55ad24ffc4b8 0x55ad24ffbf00 0x55ad26cb7a90 0x55ad26cb7cf0 0x55ad26cb7f50 0x55ad26cb81b0 0x55ad26cb8410 0x55ad26cb8670 0x55ad26cb88d0 0x55ad26cb8b30 0x55ad26cb8d90 0x55ad26cb8ff0 0x55ad26cb9250 0x55ad26cb94b0 0x55ad26cb9710 0x55ad26cb9970 0x55ad26cb9c00 0x55ad26cbd100 0x55ad26cbf3f0 0x55ad26cc5ec8 0x55ad26cc6ba8 0x55ad26cd3260 0x55ad26cd3580 0x55ad26ce1068 0x55ad26ce1f78 0x55ad26ce3088 0x55ad26ce4228 0x55ad26ce5338 0x55ad26ce6448 0x55ad26ce8280 0x55ad27098220 0x55ad27098778 0x55ad27101978 0x55ad2715e6f8 0x55ad27161258 0x55ad2727bb88 0x55ad2727c188 0x55ad25ee5288 0x55ad25f1b110 0x55ad25f53d20 0x55ad260143d0 0x55ad2605c5c8 0x55ad2605cc38 0x55ad2605d2a8 0x55ad2605d910 0x55ad2605dee8 0x55ad2605e4c8 0x55ad2606f678 0x55ad2605f1e0 0x55ad2605f7b8 0x55ad2605fdc8 0x55ad26064200 0x55ad260b67c8 0x55ad261a2fd0 0x55ad261c6260 0x55ad2626b128 0x55ad262c1278 0x55ad262c2288 0x55ad262c3238 0x55ad262c46f8 0x55ad262c5718 0x55ad262c66c8 0x55ad262c8518 0x55ad262c9558 0x55ad263a68a8 0x55ad263dbe58 0x55ad263b31c8 0x55ad263b4150 0x55ad263b50d0 0x55ad263b6050 0x55ad26400350 0x55ad263b6760 0x55ad2641cbf0 0x55ad263b76e0 0x55ad263b8660 0x55ad263b95e0 0x55ad263c04b0 0x55ad263e5868 0x55ad263ed1b0 0x55ad263ef8f8 0x55ad263f6aa0 0x55ad263f96b0 0x55ad263fcde0 0x55ad26403100 0x55ad26405c30 0x55ad26409e00 0x55ad2641a1a0 0x55ad26424400 0x55ad26429030 0x55ad2642db90 0x55ad269b9498 0x55ad265ee540 0x55ad265ef1e0 0x55ad265efc40 0x55ad265f06a0 0x55ad265f1170 0x55ad26690048 0x55ad26690a58 0x55ad26691438\n",
      "| | |-CXXOperatorCallExpr 0x7fac657ca9a0 <col:1, col:53> '<dependent type>'\n",
      "| | | |-UnresolvedLookupExpr 0x7fac657ca640 <col:30> '<overloaded function type>' lvalue (ADL) = 'operator<<' 0x55ad26cba1a0 0x55ad24ffc4b8 0x55ad24ffbf00 0x55ad26cb7a90 0x55ad26cb7cf0 0x55ad26cb7f50 0x55ad26cb81b0 0x55ad26cb8410 0x55ad26cb8670 0x55ad26cb88d0 0x55ad26cb8b30 0x55ad26cb8d90 0x55ad26cb8ff0 0x55ad26cb9250 0x55ad26cb94b0 0x55ad26cb9710 0x55ad26cb9970 0x55ad26cb9c00 0x55ad26cbd100 0x55ad26cbf3f0 0x55ad26cc5ec8 0x55ad26cc6ba8 0x55ad26cd3260 0x55ad26cd3580 0x55ad26ce1068 0x55ad26ce1f78 0x55ad26ce3088 0x55ad26ce4228 0x55ad26ce5338 0x55ad26ce6448 0x55ad26ce8280 0x55ad27098220 0x55ad27098778 0x55ad27101978 0x55ad2715e6f8 0x55ad27161258 0x55ad2727bb88 0x55ad2727c188 0x55ad25ee5288 0x55ad25f1b110 0x55ad25f53d20 0x55ad260143d0 0x55ad2605c5c8 0x55ad2605cc38 0x55ad2605d2a8 0x55ad2605d910 0x55ad2605dee8 0x55ad2605e4c8 0x55ad2606f678 0x55ad2605f1e0 0x55ad2605f7b8 0x55ad2605fdc8 0x55ad26064200 0x55ad260b67c8 0x55ad261a2fd0 0x55ad261c6260 0x55ad2626b128 0x55ad262c1278 0x55ad262c2288 0x55ad262c3238 0x55ad262c46f8 0x55ad262c5718 0x55ad262c66c8 0x55ad262c8518 0x55ad262c9558 0x55ad263a68a8 0x55ad263dbe58 0x55ad263b31c8 0x55ad263b4150 0x55ad263b50d0 0x55ad263b6050 0x55ad26400350 0x55ad263b6760 0x55ad2641cbf0 0x55ad263b76e0 0x55ad263b8660 0x55ad263b95e0 0x55ad263c04b0 0x55ad263e5868 0x55ad263ed1b0 0x55ad263ef8f8 0x55ad263f6aa0 0x55ad263f96b0 0x55ad263fcde0 0x55ad26403100 0x55ad26405c30 0x55ad26409e00 0x55ad2641a1a0 0x55ad26424400 0x55ad26429030 0x55ad2642db90 0x55ad269b9498 0x55ad265ee540 0x55ad265ef1e0 0x55ad265efc40 0x55ad265f06a0 0x55ad265f1170 0x55ad26690048 0x55ad26690a58 0x55ad26691438\n",
      "| | | |-CXXOperatorCallExpr 0x7fac657ca560 <col:1, col:14> 'basic_ostream<char, std::char_traits<char> >':'std::basic_ostream<char>' lvalue\n",
      "| | | | |-ImplicitCastExpr 0x7fac657ca548 <col:11> 'basic_ostream<char, std::char_traits<char> > &(*)(basic_ostream<char, std::char_traits<char> > &, const char *)' <FunctionToPointerDecay>\n",
      "| | | | | `-DeclRefExpr 0x7fac657ca528 <col:11> 'basic_ostream<char, std::char_traits<char> > &(basic_ostream<char, std::char_traits<char> > &, const char *)' lvalue Function 0x7fac655cdf50 'operator<<' 'basic_ostream<char, std::char_traits<char> > &(basic_ostream<char, std::char_traits<char> > &, const char *)'\n",
      "| | | | |-DeclRefExpr 0x7fac657c80c0 <col:1, col:6> 'std::ostream':'std::basic_ostream<char>' lvalue Var 0x55ad262f69c0 'cout' 'std::ostream':'std::basic_ostream<char>'\n",
      "| | | | `-ImplicitCastExpr 0x7fac657ca510 <col:14> 'const char *' <ArrayToPointerDecay>\n",
      "| | | |   `-StringLiteral 0x7fac657c80f0 <col:14> 'const char [14]' lvalue \"Best bandit: \"\n",
      "| | | `-CallExpr 0x7fac657ca620 <col:33, col:53> '<dependent type>'\n",
      "| | |   `-CXXDependentScopeMemberExpr 0x7fac657ca5d8 <col:33, col:41> '<dependent type>' lvalue .best_bandit\n",
      "| | |     `-DeclRefExpr 0x7fac657ca598 <col:33> 'auto' lvalue Var 0x7fac657c7db0 'bandits' 'auto'\n",
      "| | `-UnresolvedLookupExpr 0x7fac657ca9f8 <col:58, col:63> '<overloaded function type>' lvalue (no ADL) = 'endl' 0x55ad260603d8\n",
      "| |-DeclStmt 0x7fac657caed8 <line:12:1, col:46>\n",
      "| | `-VarDecl 0x7fac657cae28 <col:1, col:18> col:18 invalid greedy_agent 'int'\n",
      "| |-DeclStmt 0x7fac657cb090 <line:16:1, col:43>\n",
      "| | `-VarDecl 0x7fac657cafe0 <col:1, col:18> col:18 invalid e01_agent 'int'\n",
      "| |-DeclStmt 0x7fac657cb248 <line:20:1, col:45>\n",
      "| | `-VarDecl 0x7fac657cb198 <col:1, col:18> col:18 invalid e001_agent 'int'\n",
      "| `-NullStmt 0x7fac657cb300 <line:22:1>\n",
      "|-AnnotateAttr 0x7fac657c7e88 <<invalid sloc>> R\"ATTRDUMP(__ResolveAtRuntime)ATTRDUMP\"\n",
      "`-AnnotateAttr 0x7fac657c7f58 <<invalid sloc>> R\"ATTRDUMP(__ResolveAtRuntime)ATTRDUMP\"\n",
      "<<<NULL>>>\n"
     ]
    }
   ],
   "source": [
    "std::cout << \"Running K-Bandits tests \\n\";\n",
    "\n",
    "// Initialize\n",
    "const unsigned int tests = 10000;\n",
    "const unsigned int n_bandits = 10;\n",
    "\n",
    "auto bandits = KBandits(0.0, 10.0, 1.0, n_bandits);\n",
    "std::cout << \"Best bandit: \" << bandits.best_bandit() << std::endl;\n",
    "\n",
    "// Greedy\n",
    "BasicGreedyAgent greedy_agent(n_bandits, 0.0);\n",
    "do_test(\"Greedy\", &greedy_agent, tests, bandits);\n",
    "\n",
    "// e-0.1\n",
    "BasicGreedyAgent e01_agent(n_bandits, 0.1);\n",
    "do_test(\"e-0.1\", &e01_agent, tests, bandits);\n",
    "\n",
    "// e-0.01\n",
    "BasicGreedyAgent e001_agent(n_bandits, 0.01);\n",
    "do_test(\"e-0.01\", &e001_agent, tests, bandits);"
   ]
  },
  {
   "cell_type": "code",
   "execution_count": null,
   "id": "412c6327",
   "metadata": {},
   "outputs": [],
   "source": []
  }
 ],
 "metadata": {
  "kernelspec": {
   "display_name": "ROOT C++",
   "language": "c++",
   "name": "root"
  },
  "language_info": {
   "codemirror_mode": "text/x-c++src",
   "file_extension": ".C",
   "mimetype": " text/x-c++src",
   "name": "c++"
  }
 },
 "nbformat": 4,
 "nbformat_minor": 5
}
