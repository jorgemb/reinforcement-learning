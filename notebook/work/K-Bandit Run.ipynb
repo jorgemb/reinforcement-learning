{
 "cells": [
  {
   "cell_type": "code",
   "execution_count": 1,
   "id": "86c2b8b7",
   "metadata": {},
   "outputs": [],
   "source": [
    "#pragma cling add_include_path(\"/rl/include/\")\n",
    "#pragma cling add_library_path(\"/rl/lib/\")\n",
    "#pragma cling load(\"libkbandit.so\")"
   ]
  },
  {
   "cell_type": "code",
   "execution_count": 2,
   "id": "9fbfcebd",
   "metadata": {},
   "outputs": [],
   "source": [
    "#include <kbandit/k-bandit.h>\n",
    "#include <iostream>\n",
    "#include <string>\n",
    "#include <numeric>\n",
    "#include <algorithm>\n",
    "\n",
    "#include <fmt/core.h>"
   ]
  },
  {
   "cell_type": "code",
   "execution_count": 3,
   "id": "cf1afb83",
   "metadata": {},
   "outputs": [],
   "source": [
    "void do_test(const std::string& agent_name, KBanditsAgent* agent, unsigned int tests, KBandits& bandits) {\n",
    "\tstd::cout << agent_name << \" agent\\n\";\n",
    "\n",
    "    TVectorD results(tests);\n",
    "    TVectorD steps(tests);\n",
    "    double total_reward= 0.;\n",
    "    for(int i=0; i != tests; ++i){\n",
    "        std::size_t selection = agent->get_selection();\n",
    "        double reward = bandits.get_reward(selection);\n",
    "        agent->add_reward(selection, reward);\n",
    "        \n",
    "        results[i] = reward;\n",
    "        steps[i] = i;\n",
    "        total_reward += reward;\n",
    "    }\n",
    "\n",
    "\tfmt::print(\"\\tTotal reward: {}\\n\", total_reward);\n",
    "\tfmt::print(\"\\tAverage reward: {}\\n\", total_reward / tests);\n",
    "\tfmt::print(\"\\tBest bandit to agent: {}\\n\", agent->get_best_bandit());\n",
    "}"
   ]
  },
  {
   "cell_type": "code",
   "execution_count": 13,
   "id": "4d2e7275",
   "metadata": {},
   "outputs": [
    {
     "name": "stdout",
     "output_type": "stream",
     "text": [
      "Running K-Bandits tests \n",
      "Best bandit: 8\n",
      "\t0 :: -1.714 (1.000)\n",
      "\t1 :: 0.178 (1.000)\n",
      "\t2 :: 0.057 (1.000)\n",
      "\t3 :: -1.410 (1.000)\n",
      "\t4 :: 0.756 (1.000)\n",
      "\t5 :: -0.582 (1.000)\n",
      "\t6 :: -1.602 (1.000)\n",
      "\t7 :: -0.304 (1.000)\n",
      "\t8 :: 1.017 (1.000)\n",
      "\t9 :: -0.584 (1.000)\n"
     ]
    }
   ],
   "source": [
    "std::cout << \"Running K-Bandits tests \\n\";\n",
    "\n",
    "// Initialize\n",
    "const unsigned int tests = 10000;\n",
    "const unsigned int n_bandits = 10;\n",
    "const double initial_agent_estimate = 0.0;\n",
    "\n",
    "auto bandits = KBandits(0.0, 1.0, 1.0, n_bandits, 42);\n",
    "fmt::print(\"Best bandit: {}\\n\", bandits.best_bandit());\n",
    "for (size_t i = 0; i != n_bandits; i++) {\n",
    "    Bandit& b = bandits.get_bandit(i);\n",
    "    fmt::print(\"\\t{0} :: {1:.3f} ({2:.3f})\\n\", i, b.mean_reward(), b.variance());\n",
    "}"
   ]
  },
  {
   "cell_type": "code",
   "execution_count": 14,
   "id": "3fa7f553",
   "metadata": {},
   "outputs": [
    {
     "name": "stdout",
     "output_type": "stream",
     "text": [
      "Greedy agent\n",
      "\tTotal reward: 10003.276689743276\n",
      "\tAverage reward: 1.0003276689743277\n",
      "\tBest bandit to agent: 8\n"
     ]
    }
   ],
   "source": [
    "// Greedy\n",
    "BasicGreedyAgent greedy_agent(n_bandits, 0.0, initial_agent_estimate);\n",
    "do_test(\"Greedy\", &greedy_agent, tests, bandits);"
   ]
  },
  {
   "cell_type": "code",
   "execution_count": 15,
   "id": "852f2232",
   "metadata": {},
   "outputs": [
    {
     "name": "stdout",
     "output_type": "stream",
     "text": [
      "e-0.1 agent\n",
      "\tTotal reward: 8294.818010948004\n",
      "\tAverage reward: 0.8294818010948004\n",
      "\tBest bandit to agent: 8\n"
     ]
    }
   ],
   "source": [
    "// e-0.1\n",
    "BasicGreedyAgent e01_agent(n_bandits, 0.1, initial_agent_estimate);\n",
    "do_test(\"e-0.1\", &e01_agent, tests, bandits);"
   ]
  },
  {
   "cell_type": "code",
   "execution_count": 16,
   "id": "1713dc76",
   "metadata": {},
   "outputs": [
    {
     "name": "stdout",
     "output_type": "stream",
     "text": [
      "e-0.01 agent\n",
      "\tTotal reward: 9724.747756454897\n",
      "\tAverage reward: 0.9724747756454897\n",
      "\tBest bandit to agent: 8\n"
     ]
    }
   ],
   "source": [
    "// e-0.01\n",
    "BasicGreedyAgent e001_agent(n_bandits, 0.01, initial_agent_estimate);\n",
    "do_test(\"e-0.01\", &e001_agent, tests, bandits);"
   ]
  },
  {
   "cell_type": "code",
   "execution_count": null,
   "id": "d996a4dd",
   "metadata": {},
   "outputs": [],
   "source": []
  }
 ],
 "metadata": {
  "kernelspec": {
   "display_name": "ROOT C++",
   "language": "c++",
   "name": "root"
  },
  "language_info": {
   "codemirror_mode": "text/x-c++src",
   "file_extension": ".C",
   "mimetype": " text/x-c++src",
   "name": "c++"
  }
 },
 "nbformat": 4,
 "nbformat_minor": 5
}
