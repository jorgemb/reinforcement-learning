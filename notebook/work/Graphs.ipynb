{
 "cells": [
  {
   "cell_type": "code",
   "execution_count": null,
   "id": "79963549",
   "metadata": {},
   "outputs": [],
   "source": [
    "#include <xtensor/xarray.hpp>"
   ]
  },
  {
   "cell_type": "code",
   "execution_count": null,
   "id": "327026c3",
   "metadata": {},
   "outputs": [],
   "source": [
    "const int n = 20;\n",
    "double x[n], y[n];\n",
    "for (int i=0; i<n; i++) {\n",
    "  x[i] = i*0.1;\n",
    "  y[i] = 10*sin(x[i]+0.2);\n",
    "}\n",
    "auto gr = new TGraph (n, x, y);"
   ]
  },
  {
   "cell_type": "code",
   "execution_count": null,
   "id": "f28c2063",
   "metadata": {},
   "outputs": [],
   "source": [
    "canvas = new TCanvas(\"Canvas\");\n",
    "gr->Draw();"
   ]
  },
  {
   "cell_type": "code",
   "execution_count": null,
   "id": "15d5e2c7",
   "metadata": {},
   "outputs": [],
   "source": [
    "canvas->Draw()"
   ]
  },
  {
   "cell_type": "code",
   "execution_count": null,
   "id": "d0543d24",
   "metadata": {},
   "outputs": [],
   "source": []
  }
 ],
 "metadata": {
  "kernelspec": {
   "display_name": "ROOT C++",
   "language": "c++",
   "name": "root"
  },
  "language_info": {
   "codemirror_mode": "text/x-c++src",
   "file_extension": ".C",
   "mimetype": " text/x-c++src",
   "name": "c++"
  }
 },
 "nbformat": 4,
 "nbformat_minor": 5
}
