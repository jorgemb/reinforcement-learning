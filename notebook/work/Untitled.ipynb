{
 "cells": [
  {
   "cell_type": "code",
   "execution_count": 1,
   "id": "50ec5bda",
   "metadata": {},
   "outputs": [],
   "source": [
    "#pragma cling add_include_path(\"/rl/include/\")\n",
    "#pragma cling add_library_path(\"/rl/lib/\")\n",
    "#pragma cling load(\"libkbandit.so\")"
   ]
  },
  {
   "cell_type": "code",
   "execution_count": 2,
   "id": "647255cc",
   "metadata": {},
   "outputs": [],
   "source": [
    "#include <kbandit/k-bandit.h>\n",
    "#include <iostream>\n",
    "#include <string>\n",
    "#include <numeric>\n",
    "#include <algorithm>\n",
    "\n",
    "#include <fmt/core.h>"
   ]
  },
  {
   "cell_type": "code",
   "execution_count": 3,
   "id": "beeb4338",
   "metadata": {},
   "outputs": [],
   "source": [
    "void do_test(const std::string& agent_name, KBanditsAgent* agent, unsigned int tests, KBandits& bandits) {\n",
    "    std::cout << agent_name << \" agent\\n\";\n",
    "\n",
    "    std::vector<double> results(tests, 0.0);\n",
    "    std::transform(results.begin(), results.end(), results.begin(), \n",
    "        [agent, &bandits](auto val) {\n",
    "            std::size_t selection = agent->get_selection();\n",
    "            double reward = bandits.get_reward(selection);\n",
    "            agent->add_reward(selection, reward);\n",
    "\n",
    "//            std::cout << reward << std::endl;\n",
    "\n",
    "            return reward;\n",
    "        });\n",
    "\n",
    "    double total_reward = std::reduce(results.begin(), results.end(), 0.0);\n",
    "    fmt::print(\"\\tTotal reward: {}\\n\", total_reward);\n",
    "    fmt::print(\"\\tAverage reward: {}\\n\", total_reward / tests);\n",
    "    fmt::print(\"\\tBest bandit to agent: {}\\n\", agent->get_best_bandit());\n",
    "}"
   ]
  },
  {
   "cell_type": "code",
   "execution_count": null,
   "id": "7ae5e0a4",
   "metadata": {},
   "outputs": [
    {
     "name": "stderr",
     "output_type": "stream",
     "text": [
      "IncrementalExecutor::executeFunction: symbol '_ZN3fmt2v86vprintENS0_17basic_string_viewIcEENS0_17basic_format_argsINS0_20basic_format_contextINS0_8appenderEcEEEE' unresolved while linking function '_GLOBAL__sub_I_cling_module_7'!\n",
      "You are probably missing the definition of fmt::v8::vprint(fmt::v8::basic_string_view<char>, fmt::v8::basic_format_args<fmt::v8::basic_format_context<fmt::v8::appender, char> >)\n"
     ]
    }
   ],
   "source": [
    "std::cout << \"Running K-Bandits tests \\n\";\n",
    "\n",
    "// Initialize\n",
    "const unsigned int tests = 1000;\n",
    "const unsigned int n_bandits = 10;\n",
    "const double initial_agent_estimate = 0.0;\n",
    "\n",
    "auto bandits = KBandits(0.0, 1.0, 1.0, n_bandits, 42);\n",
    "fmt::print(\"Best bandit: {}\\n\", bandits.best_bandit());\n",
    "for (size_t i = 0; i != n_bandits; i++) {\n",
    "    Bandit& b = bandits.get_bandit(i);\n",
    "    fmt::print(\"\\t{0} :: {1:.3f} ({2:.3f})\\n\", i, b.mean_reward(), b.variance());\n",
    "}"
   ]
  },
  {
   "cell_type": "code",
   "execution_count": null,
   "id": "1503f9cd",
   "metadata": {},
   "outputs": [],
   "source": [
    "// Greedy\n",
    "BasicGreedyAgent greedy_agent(n_bandits, 0.0, initial_agent_estimate);\n",
    "do_test(\"Greedy\", &greedy_agent, tests, bandits);"
   ]
  },
  {
   "cell_type": "code",
   "execution_count": null,
   "id": "18e55316",
   "metadata": {},
   "outputs": [],
   "source": [
    "// e-0.1\n",
    "BasicGreedyAgent e01_agent(n_bandits, 0.1, initial_agent_estimate);\n",
    "do_test(\"e-0.1\", &e01_agent, tests, bandits);"
   ]
  },
  {
   "cell_type": "code",
   "execution_count": null,
   "id": "c9763be7",
   "metadata": {},
   "outputs": [],
   "source": [
    "// e-0.01\n",
    "BasicGreedyAgent e001_agent(n_bandits, 0.01, initial_agent_estimate);\n",
    "do_test(\"e-0.01\", &e001_agent, tests, bandits);"
   ]
  }
 ],
 "metadata": {
  "kernelspec": {
   "display_name": "C++17",
   "language": "C++17",
   "name": "xcpp17"
  },
  "language_info": {
   "codemirror_mode": "text/x-c++src",
   "file_extension": ".cpp",
   "mimetype": "text/x-c++src",
   "name": "c++",
   "version": "17"
  }
 },
 "nbformat": 4,
 "nbformat_minor": 5
}
